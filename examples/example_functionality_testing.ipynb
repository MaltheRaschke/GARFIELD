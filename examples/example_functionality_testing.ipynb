{
 "cells": [
  {
   "cell_type": "code",
   "execution_count": 1,
   "metadata": {},
   "outputs": [],
   "source": [
    "import os, sys\n",
    "from functools import partial\n",
    "import numpy as np\n",
    "from scipy.constants import c\n",
    "import pandas as pd\n",
    "import matplotlib.pyplot as plt\n",
    "sys.path.append('../garfield/')\n",
    "from Genetic_algorithm import *\n",
    "from Minimization_functions import *\n",
    "from Resonator_formula import *\n",
    "from framework import GeneticAlgorithm"
   ]
  },
  {
   "cell_type": "code",
   "execution_count": 2,
   "metadata": {},
   "outputs": [
    {
     "ename": "AttributeError",
     "evalue": "'float' object has no attribute 'size'",
     "output_type": "error",
     "traceback": [
      "\u001b[0;31m---------------------------------------------------------------------------\u001b[0m",
      "\u001b[0;31mAttributeError\u001b[0m                            Traceback (most recent call last)",
      "Cell \u001b[0;32mIn[2], line 1\u001b[0m\n\u001b[0;32m----> 1\u001b[0m \u001b[43mResonator_longitudinal_imp\u001b[49m\u001b[43m(\u001b[49m\u001b[38;5;241;43m8.116e6\u001b[39;49m\u001b[43m,\u001b[49m\u001b[43m \u001b[49m\u001b[38;5;241;43m6.3e3\u001b[39;49m\u001b[43m,\u001b[49m\u001b[43m \u001b[49m\u001b[38;5;241;43m174.35\u001b[39;49m\u001b[43m,\u001b[49m\u001b[43m \u001b[49m\u001b[38;5;241;43m8.116e6\u001b[39;49m\u001b[43m,\u001b[49m\u001b[43m \u001b[49m\u001b[43mwake_length\u001b[49m\u001b[38;5;241;43m=\u001b[39;49m\u001b[38;5;28;43;01mNone\u001b[39;49;00m\u001b[43m)\u001b[49m\n",
      "File \u001b[0;32m~/Documents/GARFIELD/examples/../garfield/Resonator_formula.py:62\u001b[0m, in \u001b[0;36mResonator_longitudinal_imp\u001b[0;34m(frequencies, Rs, Q, resonant_frequency, wake_length)\u001b[0m\n\u001b[1;32m     59\u001b[0m \u001b[38;5;28;01mif\u001b[39;00m wake_length \u001b[38;5;129;01mis\u001b[39;00m \u001b[38;5;28;01mNone\u001b[39;00m:\n\u001b[1;32m     60\u001b[0m     \u001b[38;5;66;03m# Fully decayed wake\u001b[39;00m\n\u001b[1;32m     61\u001b[0m     zero_index \u001b[38;5;241m=\u001b[39m np\u001b[38;5;241m.\u001b[39mwhere(frequencies \u001b[38;5;241m>\u001b[39m \u001b[38;5;241m0\u001b[39m)[\u001b[38;5;241m0\u001b[39m]  \u001b[38;5;66;03m# find index of non-zero element\u001b[39;00m\n\u001b[0;32m---> 62\u001b[0m     \u001b[38;5;28;01mif\u001b[39;00m zero_index\u001b[38;5;241m.\u001b[39msize \u001b[38;5;241m<\u001b[39m \u001b[43mfrequencies\u001b[49m\u001b[38;5;241;43m.\u001b[39;49m\u001b[43msize\u001b[49m:\n\u001b[1;32m     63\u001b[0m         Zl \u001b[38;5;241m=\u001b[39m np\u001b[38;5;241m.\u001b[39mzeros_like(frequencies, dtype\u001b[38;5;241m=\u001b[39m\u001b[38;5;28mcomplex\u001b[39m)  \u001b[38;5;66;03m# initialize Zl as 0\u001b[39;00m\n\u001b[1;32m     64\u001b[0m         Zl[zero_index] \u001b[38;5;241m=\u001b[39m Rs \u001b[38;5;241m/\u001b[39m (\u001b[38;5;241m1\u001b[39m \u001b[38;5;241m+\u001b[39m \u001b[38;5;241m1\u001b[39mj\u001b[38;5;241m*\u001b[39mQ \u001b[38;5;241m*\u001b[39m (\n\u001b[1;32m     65\u001b[0m                 frequencies[zero_index]\u001b[38;5;241m/\u001b[39mresonant_frequency \u001b[38;5;241m-\u001b[39m\n\u001b[1;32m     66\u001b[0m             resonant_frequency\u001b[38;5;241m/\u001b[39mfrequencies[zero_index])) \u001b[38;5;66;03m# calculate all Zl for non-zero frequencies\u001b[39;00m\n",
      "\u001b[0;31mAttributeError\u001b[0m: 'float' object has no attribute 'size'"
     ]
    }
   ],
   "source": [
    "Resonator_longitudinal_imp(8.116e6, 6.3e3, 174.35, resonant_frequency, wake_length=None)"
   ]
  }
 ],
 "metadata": {
  "kernelspec": {
   "display_name": "garfield-env",
   "language": "python",
   "name": "python3"
  },
  "language_info": {
   "codemirror_mode": {
    "name": "ipython",
    "version": 3
   },
   "file_extension": ".py",
   "mimetype": "text/x-python",
   "name": "python",
   "nbconvert_exporter": "python",
   "pygments_lexer": "ipython3",
   "version": "3.9.19"
  }
 },
 "nbformat": 4,
 "nbformat_minor": 2
}
